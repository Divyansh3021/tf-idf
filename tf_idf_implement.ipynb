{
 "cells": [
  {
   "attachments": {},
   "cell_type": "markdown",
   "metadata": {},
   "source": [
    "Preprocess the data"
   ]
  },
  {
   "cell_type": "code",
   "execution_count": 1,
   "metadata": {},
   "outputs": [],
   "source": [
    "import numpy as np\n",
    "from nltk.tokenize import word_tokenize\n",
    "\n",
    "text = ['Topic sentences are similar to mini thesis statements.\\\n",
    "        Like a thesis statement, a topic sentence has a specific \\\n",
    "        main point. Whereas the thesis is the main point of the essay',\\\n",
    "        'the topic sentence is the main point of the paragraph.\\\n",
    "        Like the thesis statement, a topic sentence has a unifying function. \\\n",
    "        But a thesis statement or topic sentence alone doesn’t guarantee unity.', \\\n",
    "        'An essay is unified if all the paragraphs relate to the thesis,\\\n",
    "        whereas a paragraph is unified if all the sentences relate to the topic sentence.']\n",
    "\n",
    "sentences = []\n",
    "word_set = []\n",
    "\n",
    "for sentence in text:\n",
    "      x = [i.lower() for i in word_tokenize(sentence) if i.isalpha()]\n",
    "      sentences.append(x)\n",
    "      for word in x:\n",
    "        if word not in word_set:\n",
    "            word_set.append(word)\n",
    "\n",
    "#set of vocab\n",
    "word_set = set(word_set)\n",
    "total_docs = len(sentences)\n",
    "\n",
    "#creating an index for each word in our vocab\n",
    "index_dict = {}\n",
    "i = 0\n",
    "for word in word_set:\n",
    "    index_dict[word] = i\n",
    "    i += 1"
   ]
  },
  {
   "attachments": {},
   "cell_type": "markdown",
   "metadata": {},
   "source": [
    "creating a dictionary to keep the count the number of documents containing the given word"
   ]
  },
  {
   "cell_type": "code",
   "execution_count": 2,
   "metadata": {},
   "outputs": [],
   "source": [
    "def count_dict(sentences):\n",
    "    word_count = {}\n",
    "    for word in word_set:\n",
    "        word_count[word] = 0\n",
    "        for sentence in sentences:\n",
    "            if word in sentence:\n",
    "                word_count[word] += 1\n",
    "    return word_count"
   ]
  },
  {
   "attachments": {},
   "cell_type": "markdown",
   "metadata": {},
   "source": [
    "defining a function to count the Term Frequency (tf) of every word"
   ]
  },
  {
   "cell_type": "code",
   "execution_count": 3,
   "metadata": {},
   "outputs": [],
   "source": [
    "def termfreq(document, word):\n",
    "    N = len(document)\n",
    "    occurence = len([token for token in document if token == word])\n",
    "    return occurence/N"
   ]
  },
  {
   "attachments": {},
   "cell_type": "markdown",
   "metadata": {},
   "source": [
    "defining a function to calc Inverse Document Freq(idf)"
   ]
  },
  {
   "cell_type": "code",
   "execution_count": 4,
   "metadata": {},
   "outputs": [],
   "source": [
    "def inverse_doc_freq(word):\n",
    "    try:\n",
    "        word_occurence = word_count[word] + 1\n",
    "    except:\n",
    "        word_occurence = 1\n",
    "    return np.log(total_docs/word_occurence)"
   ]
  },
  {
   "attachments": {},
   "cell_type": "markdown",
   "metadata": {},
   "source": [
    "defining the tf-idf function"
   ]
  },
  {
   "cell_type": "code",
   "execution_count": 7,
   "metadata": {},
   "outputs": [],
   "source": [
    "def tf_idf(sentence):\n",
    "    tf_idf_vec = np.zeros((len(word_set),))\n",
    "    for word in sentence:\n",
    "        tf = termfreq(sentence, word)\n",
    "        idf = inverse_doc_freq(word)\n",
    "\n",
    "        value = tf*idf\n",
    "        tf_idf_vec[index_dict[word]] = value\n",
    "    return tf_idf_vec"
   ]
  },
  {
   "attachments": {},
   "cell_type": "markdown",
   "metadata": {},
   "source": [
    "applying the tf-idf model to our text"
   ]
  },
  {
   "cell_type": "code",
   "execution_count": 8,
   "metadata": {},
   "outputs": [
    {
     "name": "stdout",
     "output_type": "stream",
     "text": [
      "[0.03662041 0.         0.03662041 0.         0.03662041 0.10986123\n",
      " 0.07324082 0.03662041 0.         0.         0.03662041 0.\n",
      " 0.10986123 0.         0.         0.03662041 0.03662041 0.\n",
      " 0.         0.07324082 0.03662041 0.03662041 0.         0.\n",
      " 0.03662041 0.         0.03662041 0.07324082 0.10986123 0.\n",
      " 0.03662041 0.03662041 0.         0.         0.03662041 0.\n",
      " 0.03662041]\n"
     ]
    }
   ],
   "source": [
    "vectors = []\n",
    "for sentence in sentences:\n",
    "    vec = tf_idf(sentence)\n",
    "    vectors.append(vec)\n",
    "\n",
    "print(vectors[1])"
   ]
  }
 ],
 "metadata": {
  "kernelspec": {
   "display_name": "Python 3",
   "language": "python",
   "name": "python3"
  },
  "language_info": {
   "codemirror_mode": {
    "name": "ipython",
    "version": 3
   },
   "file_extension": ".py",
   "mimetype": "text/x-python",
   "name": "python",
   "nbconvert_exporter": "python",
   "pygments_lexer": "ipython3",
   "version": "3.9.8"
  },
  "orig_nbformat": 4,
  "vscode": {
   "interpreter": {
    "hash": "1a647852a5af53831007c2d01c12e3e8e8061e139bd247a0ea5121ac86dbd369"
   }
  }
 },
 "nbformat": 4,
 "nbformat_minor": 2
}
